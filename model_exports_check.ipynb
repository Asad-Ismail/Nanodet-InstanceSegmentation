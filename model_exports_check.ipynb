{
 "cells": [
  {
   "cell_type": "code",
   "execution_count": 1,
   "id": "f7915778",
   "metadata": {},
   "outputs": [],
   "source": [
    "%load_ext autoreload\n",
    "%autoreload 2"
   ]
  },
  {
   "cell_type": "code",
   "execution_count": 2,
   "id": "38e46295",
   "metadata": {},
   "outputs": [],
   "source": [
    "import os\n",
    "import time\n",
    "\n",
    "import cv2\n",
    "import torch\n",
    "\n",
    "from nanodet.data.transform import Pipeline\n",
    "from nanodet.model.arch import build_model\n",
    "from nanodet.util import load_model_weight"
   ]
  },
  {
   "cell_type": "code",
   "execution_count": 3,
   "id": "c69003f7",
   "metadata": {},
   "outputs": [
    {
     "data": {
      "text/html": [
       "<pre style=\"white-space:pre;overflow-x:auto;line-height:normal;font-family:Menlo,'DejaVu Sans Mono',consolas,'Courier New',monospace\"><span style=\"color: #800080; text-decoration-color: #800080; font-weight: bold\">Installing onnxruntime by `/home/ec2-user/anaconda3/envs/pytorch_p39/bin/python -m pip install onnxruntime`, please</span>\n",
       "<span style=\"color: #800080; text-decoration-color: #800080; font-weight: bold\">wait for a moment..</span>\n",
       "</pre>\n"
      ],
      "text/plain": [
       "\u001b[1;35mInstalling onnxruntime by `/home/ec2-user/anaconda3/envs/pytorch_p39/bin/python -m pip install onnxruntime`, please\u001b[0m\n",
       "\u001b[1;35mwait for a moment..\u001b[0m\n"
      ]
     },
     "metadata": {},
     "output_type": "display_data"
    },
    {
     "name": "stdout",
     "output_type": "stream",
     "text": [
      "Looking in indexes: https://pypi.org/simple, https://pip.repos.neuron.amazonaws.com\n",
      "Collecting onnxruntime\n",
      "  Downloading onnxruntime-1.15.0-cp39-cp39-manylinux_2_17_x86_64.manylinux2014_x86_64.whl (5.9 MB)\n",
      "     ━━━━━━━━━━━━━━━━━━━━━━━━━━━━━━━━━━━━━━━━ 5.9/5.9 MB 33.8 MB/s eta 0:00:00\n",
      "Requirement already satisfied: sympy in /home/ec2-user/anaconda3/envs/pytorch_p39/lib/python3.9/site-packages (from onnxruntime) (1.11.1)\n",
      "Requirement already satisfied: protobuf in /home/ec2-user/anaconda3/envs/pytorch_p39/lib/python3.9/site-packages (from onnxruntime) (3.20.2)\n",
      "Collecting coloredlogs\n",
      "  Downloading coloredlogs-15.0.1-py2.py3-none-any.whl (46 kB)\n",
      "     ━━━━━━━━━━━━━━━━━━━━━━━━━━━━━━━━━━━━━━━━ 46.0/46.0 kB 13.4 MB/s eta 0:00:00\n",
      "Collecting flatbuffers\n",
      "  Downloading flatbuffers-23.5.26-py2.py3-none-any.whl (26 kB)\n",
      "Requirement already satisfied: packaging in /home/ec2-user/anaconda3/envs/pytorch_p39/lib/python3.9/site-packages (from onnxruntime) (21.3)\n",
      "Requirement already satisfied: numpy>=1.21.6 in /home/ec2-user/anaconda3/envs/pytorch_p39/lib/python3.9/site-packages (from onnxruntime) (1.23.5)\n",
      "Collecting humanfriendly>=9.1\n",
      "  Downloading humanfriendly-10.0-py2.py3-none-any.whl (86 kB)\n",
      "     ━━━━━━━━━━━━━━━━━━━━━━━━━━━━━━━━━━━━━━━━ 86.8/86.8 kB 24.0 MB/s eta 0:00:00\n",
      "Requirement already satisfied: pyparsing!=3.0.5,>=2.0.2 in /home/ec2-user/anaconda3/envs/pytorch_p39/lib/python3.9/site-packages (from packaging->onnxruntime) (3.0.9)\n",
      "Requirement already satisfied: mpmath>=0.19 in /home/ec2-user/anaconda3/envs/pytorch_p39/lib/python3.9/site-packages (from sympy->onnxruntime) (1.2.1)\n",
      "Installing collected packages: flatbuffers, humanfriendly, coloredlogs, onnxruntime\n",
      "Successfully installed coloredlogs-15.0.1 flatbuffers-23.5.26 humanfriendly-10.0 onnxruntime-1.15.0\n"
     ]
    }
   ],
   "source": [
    "import os\n",
    "\n",
    "import onnx\n",
    "import onnxsim\n",
    "import torch\n",
    "\n",
    "from nanodet.model.arch import build_model\n",
    "from nanodet.util import Logger, cfg, load_config, load_model_weight"
   ]
  },
  {
   "cell_type": "code",
   "execution_count": 4,
   "id": "d8e18329",
   "metadata": {},
   "outputs": [],
   "source": [
    "cfg_path = \"config/nanoinstance-mask-512.yml\"\n",
    "model_path = \"workspace/nanodet-plus-cucumber_512_test/model_last.ckpt\"\n",
    "out_path = \"test.onnx\"\n",
    "input_shape = (512,512)\n",
    "load_config(cfg, cfg_path)"
   ]
  },
  {
   "cell_type": "code",
   "execution_count": 8,
   "id": "ac5229c1",
   "metadata": {},
   "outputs": [
    {
     "data": {
      "text/plain": [
       "['__class__',\n",
       " '__delattr__',\n",
       " '__dict__',\n",
       " '__dir__',\n",
       " '__doc__',\n",
       " '__eq__',\n",
       " '__format__',\n",
       " '__ge__',\n",
       " '__getattribute__',\n",
       " '__gt__',\n",
       " '__hash__',\n",
       " '__init__',\n",
       " '__init_subclass__',\n",
       " '__le__',\n",
       " '__lt__',\n",
       " '__module__',\n",
       " '__ne__',\n",
       " '__new__',\n",
       " '__reduce__',\n",
       " '__reduce_ex__',\n",
       " '__repr__',\n",
       " '__setattr__',\n",
       " '__sizeof__',\n",
       " '__str__',\n",
       " '__subclasshook__',\n",
       " '__weakref__',\n",
       " 'log',\n",
       " 'log_dir',\n",
       " 'rank',\n",
       " 'scalar_summary']"
      ]
     },
     "execution_count": 8,
     "metadata": {},
     "output_type": "execute_result"
    }
   ],
   "source": [
    "dir(logger)"
   ]
  },
  {
   "cell_type": "code",
   "execution_count": 9,
   "id": "ec8e8f5b",
   "metadata": {},
   "outputs": [
    {
     "name": "stdout",
     "output_type": "stream",
     "text": [
      "model size is  1.0x\n",
      "init weights...\n",
      "=> loading pretrained model https://download.pytorch.org/models/shufflenetv2_x1-5666bf0f80.pth\n"
     ]
    },
    {
     "name": "stderr",
     "output_type": "stream",
     "text": [
      "\u001b[1m\u001b[35m[root]\u001b[0m\u001b[34m[05-26 08:11:37]\u001b[0m\u001b[32mINFO:\u001b[0m\u001b[97mLoading trained model weights!\u001b[0m\n",
      "\u001b[1m\u001b[35m[root]\u001b[0m\u001b[34m[05-26 08:11:37]\u001b[0m\u001b[32mINFO:\u001b[0m\u001b[97mLoading trained model weights!\u001b[0m\n",
      "\u001b[1m\u001b[35m[root]\u001b[0m\u001b[34m[05-26 08:11:37]\u001b[0m\u001b[32mINFO:\u001b[0m\u001b[97mLoading trained model weights!\u001b[0m\n",
      "\u001b[1m\u001b[35m[root]\u001b[0m\u001b[34m[05-26 08:11:37]\u001b[0m\u001b[32mINFO:\u001b[0m\u001b[97mLoading trained model weights!\u001b[0m\n"
     ]
    }
   ],
   "source": [
    "logger = Logger(-1, cfg.save_dir, False)\n",
    "model = build_model(cfg.model)\n",
    "checkpoint = torch.load(model_path, map_location=lambda storage, loc: storage)\n",
    "logger.log(\"Loading trained model weights!\")\n",
    "load_model_weight(model, checkpoint, logger)"
   ]
  },
  {
   "cell_type": "code",
   "execution_count": 10,
   "id": "43241255",
   "metadata": {},
   "outputs": [],
   "source": [
    "pipeline = Pipeline(cfg.data.val.pipeline, cfg.data.val.keep_ratio)"
   ]
  },
  {
   "cell_type": "code",
   "execution_count": 11,
   "id": "3ec9f560",
   "metadata": {},
   "outputs": [
    {
     "data": {
      "text/plain": [
       "[512, 512]"
      ]
     },
     "execution_count": 11,
     "metadata": {},
     "output_type": "execute_result"
    }
   ],
   "source": [
    "cfg.data.val.input_size"
   ]
  },
  {
   "cell_type": "code",
   "execution_count": 12,
   "id": "d915d091",
   "metadata": {},
   "outputs": [],
   "source": [
    "img=cv2.imread(\"data/cucumbers/0.png\")\n",
    "height, width = img.shape[:2]\n",
    "img_info = {}\n",
    "img_info[\"height\"] = height\n",
    "img_info[\"width\"] = width\n",
    "meta = dict(img_info=img_info, raw_img=img, img=img)"
   ]
  },
  {
   "cell_type": "code",
   "execution_count": 13,
   "id": "e5b9eba6",
   "metadata": {},
   "outputs": [],
   "source": [
    "meta = pipeline(meta,cfg.data.val.input_size)"
   ]
  },
  {
   "cell_type": "code",
   "execution_count": 14,
   "id": "51990259",
   "metadata": {},
   "outputs": [],
   "source": [
    "img=torch.from_numpy(meta[\"img\"].transpose(2, 0, 1)).unsqueeze(0)"
   ]
  },
  {
   "cell_type": "code",
   "execution_count": 15,
   "id": "9e4317d8",
   "metadata": {},
   "outputs": [
    {
     "data": {
      "text/plain": [
       "torch.Size([1, 3, 512, 512])"
      ]
     },
     "execution_count": 15,
     "metadata": {},
     "output_type": "execute_result"
    }
   ],
   "source": [
    "img.shape"
   ]
  },
  {
   "cell_type": "code",
   "execution_count": 16,
   "id": "8686f5bd",
   "metadata": {},
   "outputs": [],
   "source": [
    "dummy_input = img"
   ]
  },
  {
   "cell_type": "code",
   "execution_count": 17,
   "id": "c1efd8ab",
   "metadata": {},
   "outputs": [],
   "source": [
    "def to_numpy(tensor):\n",
    "    return tensor.detach().cpu().numpy() if tensor.requires_grad else tensor.cpu().numpy()"
   ]
  },
  {
   "cell_type": "code",
   "execution_count": 18,
   "id": "37735d9c",
   "metadata": {},
   "outputs": [],
   "source": [
    "torch.onnx.export(\n",
    "    model,\n",
    "    dummy_input,\n",
    "    out_path,\n",
    "    export_params=True, \n",
    "    verbose=False,\n",
    "    keep_initializers_as_inputs=True,\n",
    "    opset_version=11,\n",
    "    input_names=[\"data\"],\n",
    "    output_names=[\"output\"],\n",
    ")"
   ]
  },
  {
   "cell_type": "code",
   "execution_count": 19,
   "id": "efc316b7",
   "metadata": {},
   "outputs": [
    {
     "name": "stderr",
     "output_type": "stream",
     "text": [
      "\u001b[1m\u001b[35m[root]\u001b[0m\u001b[34m[05-26 08:13:30]\u001b[0m\u001b[32mINFO:\u001b[0m\u001b[97mfinished exporting onnx \u001b[0m\n",
      "\u001b[1m\u001b[35m[root]\u001b[0m\u001b[34m[05-26 08:13:30]\u001b[0m\u001b[32mINFO:\u001b[0m\u001b[97mfinished exporting onnx \u001b[0m\n",
      "\u001b[1m\u001b[35m[root]\u001b[0m\u001b[34m[05-26 08:13:30]\u001b[0m\u001b[32mINFO:\u001b[0m\u001b[97mfinished exporting onnx \u001b[0m\n",
      "\u001b[1m\u001b[35m[root]\u001b[0m\u001b[34m[05-26 08:13:30]\u001b[0m\u001b[32mINFO:\u001b[0m\u001b[97mfinished exporting onnx \u001b[0m\n"
     ]
    }
   ],
   "source": [
    "logger.log(\"finished exporting onnx \")"
   ]
  },
  {
   "cell_type": "code",
   "execution_count": 20,
   "id": "94670aea",
   "metadata": {},
   "outputs": [],
   "source": [
    "out=model(dummy_input)"
   ]
  },
  {
   "cell_type": "code",
   "execution_count": null,
   "id": "0ab8ea2b",
   "metadata": {},
   "outputs": [],
   "source": [
    "out[0].shape, out[1][0].shape,out[1][2].shape"
   ]
  },
  {
   "cell_type": "code",
   "execution_count": null,
   "id": "838de90c",
   "metadata": {},
   "outputs": [],
   "source": [
    "import onnxruntime\n",
    "ort_session = onnxruntime.InferenceSession(\"test.onnx\")"
   ]
  },
  {
   "cell_type": "code",
   "execution_count": null,
   "id": "ea85caea",
   "metadata": {},
   "outputs": [],
   "source": []
  }
 ],
 "metadata": {
  "kernelspec": {
   "display_name": "conda_pytorch_p39",
   "language": "python",
   "name": "conda_pytorch_p39"
  },
  "language_info": {
   "codemirror_mode": {
    "name": "ipython",
    "version": 3
   },
   "file_extension": ".py",
   "mimetype": "text/x-python",
   "name": "python",
   "nbconvert_exporter": "python",
   "pygments_lexer": "ipython3",
   "version": "3.9.15"
  }
 },
 "nbformat": 4,
 "nbformat_minor": 5
}
